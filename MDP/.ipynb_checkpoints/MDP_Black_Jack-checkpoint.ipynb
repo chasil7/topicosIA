{
 "cells": [
  {
   "cell_type": "markdown",
   "metadata": {},
   "source": [
    "## MDP Para el juego Black Jack (21)\n",
    "\n",
    "Se intentará resolver a continuación una versión simplificada del famoso juego BlackJack o 21. Para esto, se tienen las siguientes reglas:\n",
    "\n",
    "\n",
    "1. Solamente es un jugador y el Dealer, y en cada juagada se apuesta una cantidad fija de dinero (se requiere una política por jugada y los juegos son independientes)\n",
    "\n",
    "2. Se asume un mazo infinito (todas las cartas tienen la misma probabilidad de salir)\n",
    "\n",
    "3. El jugador juega primero, y solo tiene dos jugadas posibles: parar o pedir otra carta.\n",
    "\n",
    "4. El jugador puede pedir cartas hasta que: llegue a 21 puntos (gana automáticamente), se pase de 21 puntos (pierde automáticamente), tenga 4 cartas o más (gana automáticamente) o decida parar.\n",
    "\n",
    "5. El Dealer empieza con una sola carta y una vez que el jugador decide parar, y no haya perdido o ganado automáticamente.\n",
    "\n",
    "6. El Dealer tiene que pedir_carta siempre que tenga menos de 17 puntos.\n",
    "\n",
    "7. El Dealer tiene que parar si tiene 17 puntos o más.\n",
    "\n",
    "8. Si el Dealer tiene 4 cartas, o un número mayor que el jugador (y menos que 21) gana. De otra forma, gana el jugador.\n",
    "\n",
    "\n",
    "El modelo que se utilizará es el siguiente:\n",
    "\n",
    "$ S = (d,sum,n,as)$ \n",
    "\n",
    "$ A = \\{ fin, otra \\} $\n",
    "\n",
    "$ \\rho = ...$ \n",
    "\n",
    "$ S_f =  \\{ (0,0,0,1), (0,0,0,-1) \\} $\n",
    "\n",
    "$ r = $ 1 si gana, -1 si pierde y 0 en otro caso\n",
    "\n",
    "\n",
    "\n",
    "\n",
    "d : es el valor que tiene la primer carta del dealer. La que le es mostrada al jugador\n",
    "\n",
    "sum : es la suma acumulada que tiene el jugador hasta el momento. En caso de tener As se suman 1's.\n",
    "\n",
    "n: es el numero de cartas que tiene hasta el momento.\n",
    "\n",
    "as: indica con un 1 que tiene al menos un As, y 0 si no tiene ninguno.\n",
    "\n",
    "Las acciones que se toman son, como se dijo en las reglas, finalizar su juego (fin) o pedir otra carta (otra).\n",
    "\n",
    "Existen dos estados , los finales, de los cuales las componentes no tienen un significado en particular. Solo se utilizaron estos para representar si se gana (0,0,0,1) o si se pierde (0,0,0,-1)\n"
   ]
  },
  {
   "cell_type": "markdown",
   "metadata": {},
   "source": [
    "## Definiciones principales del Modelo"
   ]
  },
  {
   "cell_type": "code",
   "execution_count": 1,
   "metadata": {
    "collapsed": true
   },
   "outputs": [],
   "source": [
    "abstract type MDP end\n",
    "abstract type Estado end\n",
    "abstract type Accion end"
   ]
  },
  {
   "cell_type": "code",
   "execution_count": 2,
   "metadata": {
    "collapsed": true
   },
   "outputs": [],
   "source": [
    "struct BJ_s <:Estado\n",
    "    d #valor de primer carta del dealer\n",
    "    sum #suma del jugador hasta el momento\n",
    "    n #numero de cartas del jugador\n",
    "    as #indica si se puede sumar 10 a sum o no (1,0), es decir, si tiene un As.\n",
    "\n",
    "    function BJ_s(d::Int,sum::Int,n::Int,as::Int)\n",
    "        if (d > 10 || sum>22 || n>4 || as>1 )\n",
    "            error(\"estado invalido\")\n",
    "        else\n",
    "            return new(d,sum,n,as)\n",
    "        end\n",
    "    end\n",
    "end\n"
   ]
  },
  {
   "cell_type": "code",
   "execution_count": 3,
   "metadata": {},
   "outputs": [
    {
     "data": {
      "text/plain": [
       "BJ_s(5, 0, 0, -1)"
      ]
     },
     "execution_count": 3,
     "metadata": {},
     "output_type": "execute_result"
    }
   ],
   "source": [
    "BJ_s(5,0,0,-1)"
   ]
  },
  {
   "cell_type": "code",
   "execution_count": 4,
   "metadata": {
    "collapsed": true
   },
   "outputs": [],
   "source": [
    "struct BJ_a <:Accion # Se puede pedir otra carta o finalizar el juego.\n",
    "    a\n",
    "    function BJ_a(a)\n",
    "        if (a != :fin && a!= :otra)\n",
    "            error(\"accion invalida\")\n",
    "        else\n",
    "            new(a)\n",
    "        end\n",
    "    end\n",
    "end"
   ]
  },
  {
   "cell_type": "code",
   "execution_count": 5,
   "metadata": {},
   "outputs": [
    {
     "data": {
      "text/plain": [
       "BJ_a(:otra)"
      ]
     },
     "execution_count": 5,
     "metadata": {},
     "output_type": "execute_result"
    }
   ],
   "source": [
    "BJ_a(:otra)"
   ]
  },
  {
   "cell_type": "markdown",
   "metadata": {},
   "source": [
    "## Funciones del Modelo"
   ]
  },
  {
   "cell_type": "markdown",
   "metadata": {},
   "source": [
    "A continuación se presentan las funciones principales del modelo. \n",
    "1. La función que indica si un estado es terminal o no.\n",
    "2. La función que devuelve todas las acciones legales en un estado.\n",
    "3. La función de recompensa, la cual regresa un número positivo o negativo el cual califica cada transición que se hace, es decir, el estado en el que se está y al que se pasa despues de tomar una acción. "
   ]
  },
  {
   "cell_type": "code",
   "execution_count": 37,
   "metadata": {},
   "outputs": [
    {
     "data": {
      "text/plain": [
       "r (generic function with 2 methods)"
      ]
     },
     "execution_count": 37,
     "metadata": {},
     "output_type": "execute_result"
    }
   ],
   "source": [
    "#terminal\n",
    "function terminal(s::BJ_s)\n",
    "    (s.d==s.sum==s.n==0) && (s.as==1 || s.as==-1) ? true : false\n",
    "end\n",
    "\n",
    "\n",
    "#acciones legales\n",
    "function aLegales(s::BJ_s)\n",
    "    if terminal(s)\n",
    "        return nothing\n",
    "    end\n",
    "    \n",
    "    acciones = []\n",
    "    \n",
    "    if s.sum<=21 && s.n<4\n",
    "        push!(acciones,BJ_a(:otra))\n",
    "    end\n",
    "    \n",
    "    push!(acciones,BJ_a(:fin))\n",
    "    \n",
    "    acciones\n",
    "end\n",
    "                        \n",
    "#recompensa\n",
    "function r(s::BJ_s,a::BJ_a,s2::BJ_s)\n",
    "    if terminal(s) return r(s) end\n",
    "    0\n",
    "end\n",
    "\n",
    "function r(s::BJ_s)\n",
    "    if s.d==s.sum==s.n==0 && s.as==1\n",
    "        return 1\n",
    "    elseif s.d==s.sum==s.n==0 && s.as==-1\n",
    "        return -1\n",
    "    end\n",
    "    0\n",
    "end\n"
   ]
  },
  {
   "cell_type": "code",
   "execution_count": 38,
   "metadata": {
    "collapsed": true
   },
   "outputs": [],
   "source": [
    "# Funciones auxiliares\n",
    "\n",
    "\"\"\"\n",
    "Calcula el numero de opciones de una carta cuya valor esta entre dos valores. (izq_ , der_).\n",
    "(Nota: El valor que se busca es estrictamente mayor que el izq_ y menor o igual que el der_)\n",
    "\"\"\"\n",
    "\n",
    "function comb1carta(izq_,der_)\n",
    "    \n",
    "    if izq_>= der_ return 0 end\n",
    "    \n",
    "    total=0;\n",
    "\n",
    "    \n",
    "    if izq_<9 total+=min(9,der_)-max(izq_,0) end\n",
    "    if (der_>=10 && izq_<10) total+=4 end\n",
    "    if (der_>=11 && izq_<11) total+=1 end\n",
    "    \n",
    "\n",
    "    #println(\"total de combinaciones \",total)\n",
    "    total\n",
    "end\n",
    "\n",
    "\n",
    "\"\"\"\n",
    "Calcula el numero de combinaciones de dos cartas cuya suma esta entre dos valores. (izq_ , der_)\n",
    "(Nota: El valor suma que se busca es estrictamente mayor que el izq_ y menor o igual que el der_)\n",
    "\"\"\"\n",
    "\n",
    "function comb2cartas(izq_,der_,acum,cond)\n",
    "        \n",
    "    if izq_>= der_ return 0 end\n",
    "            \n",
    "    total=0; i=1 \n",
    "    izq=izq_-i\n",
    "    der=der_-i\n",
    "    \n",
    "    while (der>0 && i<=11 && acum+i<cond)\n",
    "    \n",
    "        y=comb1carta(izq,der)\n",
    "        i==10 ? total+=4*min(y,13) : total+=min(y,13)\n",
    "        i+=1\n",
    "        izq-=1\n",
    "        der-=1\n",
    "    end\n",
    "    #println(\"total de combinaciones \",total)\n",
    "    total\n",
    "end\n",
    "\n",
    "\"\"\"\n",
    "Calcula el numero de combinaciones de tres cartas cuya suma esta entre dos valores. (izq_ , der_)\n",
    "(Nota: El valor suma que se busca es estrictamente mayor que el izq_ y menor o igual que el der_)\n",
    "\"\"\"\n",
    "\n",
    "function comb3cartas(izq_,der_, acum, cond)\n",
    "        \n",
    "    if izq_>= der_ return 0 end\n",
    "    total=0\n",
    "    for i in 1:11\n",
    "        \n",
    "        if acum + i >=17 break end\n",
    "            \n",
    "        total+=comb2cartas(izq_ - i, der_ -i, acum+i, cond)\n",
    "    end\n",
    "    total\n",
    "end\n",
    "\n"
   ]
  },
  {
   "cell_type": "markdown",
   "metadata": {},
   "source": [
    "La función de probabilidad fue la función más complicada de desarrollar en este problema. Intenté abarcar todos los casos sin embargo no consideré cuando el dealer tiene un As como primera carta. Aún así en los resultados finales no parece afectar mucho la cantidad que tiene el dealer si no la cantidad acumulada del jugador que era lo que se esperaba. Al final se tiene una estrategia parecida a la del dealer."
   ]
  },
  {
   "cell_type": "code",
   "execution_count": 39,
   "metadata": {},
   "outputs": [
    {
     "data": {
      "text/plain": [
       "ρ (generic function with 1 method)"
      ]
     },
     "execution_count": 39,
     "metadata": {},
     "output_type": "execute_result"
    }
   ],
   "source": [
    "#probabilidad de Transición\n",
    "\"\"\"\n",
    "Calcula la probabilidad de partir de un estado s a un estado s2 tomando la accion a.\n",
    "\"\"\"\n",
    "function ρ(s::BJ_s,a::BJ_a,s2::BJ_s)\n",
    "    \n",
    "    if  terminal(s) \n",
    "        return 0\n",
    "    end\n",
    "    \n",
    "    if a ∉ aLegales(s)\n",
    "        return 0\n",
    "    end\n",
    "    \n",
    "    if a.a == :fin\n",
    "        \n",
    "        if s2.d==s2.sum==s2.n==0 && s2.as==1 #si gana\n",
    "            s.as==1 && s.sum+10< 22 ? sum=s.sum+10 : sum=s.sum #de una vez sumo lo del as si conviene.\n",
    "            if sum==21 return 1 end\n",
    "            \n",
    "            \n",
    "            z=0 #todos los posibles juegos del dealer\n",
    "            \n",
    "            z+=comb1carta(16-s.d,44-s.d) #Jugadas con 2 cartas\n",
    "            z+=comb2cartas(16-s.d,44-s.d,s.d,17)#Jugadas con 3 cartas\n",
    "            z+=comb3cartas(16-s.d,44-s.d,s.d,17)#Jugadas con 4 cartas \n",
    "            z+=comb3cartas(0,44-s.d,s.d,17) #Jugadas con 4 cartas\n",
    "    \n",
    "            x=0 #guarda todos los casos que se necesiten contar. En que pierda el dealer o gane, segun se explica abajo.\n",
    "            \n",
    "            if sum >= s.d # si el jugador tiene mas que la carta del dealer\n",
    "                dif = sum-s.d\n",
    "                \n",
    "                #Formas en las que puede perder el dealer (en general): \n",
    "                #con 2 cartas \n",
    "                \"\"\"if dif<10 \n",
    "                    x+=dif-1\n",
    "                    if s.d+11 >21 x+=1 end\n",
    "                elseif dif==10 x+=12 \n",
    "                else x+=13\n",
    "                end\"\"\"\n",
    "                \n",
    "                #con 3 cartas (en general)\n",
    "                \"\"\"\n",
    "                x+=169 - comb2cartas(dif,21-s.d)\n",
    "                \"\"\"\n",
    "                #con 4 cartas (en general)\n",
    "                \"\"\"\n",
    "                x+=2197 - comb3cartas(dif,21-s.d)\n",
    "                \n",
    "                return x/2379\"\"\"\n",
    "                \n",
    "                #Formas en las que puede ganar el dealer (jugando con las reglas de dealer).\n",
    "                #con 2 cartas : max(16,sum)<s.d + 1 carta<=21.\n",
    "                #con 3 cartas: max(16,sum)<s.d + suma de 2 cartas<=21.\n",
    "                #con 4 cartas: max(16,sum)<s.d + suma de 3 cartas<=21 o tambien que la suma sea menor que 21.\n",
    "                \n",
    "                if s.d!=1\n",
    "                    x+=comb1carta(max(16,sum)-s.d,21-s.d) #Casos en los que gana con 2 cartas \n",
    "                    x+=comb2cartas(max(16,sum)-s.d,21-s.d,s.d,17)#Casos en los que gana con 3 cartas \n",
    "                    x+=comb3cartas(max(16,sum)-s.d,21-s.d,s.d,17)#Casos en los que gana con 4 cartas \n",
    "                    x+=comb3cartas(0,21-s.d,s.d,17) #Casos en los que gana con 4 cartas \n",
    "                else\n",
    "                    x+=comb1carta(max(16,sum)-s.d,21-s.d) #Casos en los que gana con 2 cartas \n",
    "                    x+=comb2cartas(max(16,sum)-s.d,21-s.d,s.d,17)#Casos en los que gana con 3 cartas \n",
    "                    x+=comb3cartas(max(16,sum)-s.d,21-s.d,s.d,17)#Casos en los que gana con 4 cartas \n",
    "                    x+=comb3cartas(0,21-s.d,s.d,17) #Casos en los que gana con 4 cartas \n",
    "                end\n",
    "\n",
    "  \n",
    "                return 1 - x/z\n",
    "                        \n",
    "            else # si el dealer inicialmente ya tiene mas que el jugador.\n",
    "                        \n",
    "                # La probabilidad de que el dealer se pase (en general)\n",
    "                \"\"\"\n",
    "                x+=169 - comb2cartas(s.d,21)\n",
    "                x+=2197 - comb3cartas(s.d,21)\n",
    "                \n",
    "                return x/2380\n",
    "                \"\"\"\n",
    "                # La probabilidad de que el dealer se pase (reglas del dealer)\n",
    "                if s.d!=1\n",
    "                    x+=comb2cartas(21-s.d,44-s.d,s.d,17)#Casos en los que se pasa con 3 cartas\n",
    "                    x+=comb3cartas(21-s.d,44-s.d,s.d,17)#Casos en los que se pasa con 4 cartas\n",
    "                else\n",
    "                    x+=comb2cartas(21-s.d,44-s.d,s.d,17)#Casos en los que se pasa con 3 cartas \n",
    "                    x+=comb3cartas(21-s.d,44-s.d,s.d,17)#Casos en los que se pasa con 4 cartas\n",
    "                end\n",
    "                \n",
    "                return x/z\n",
    "            \n",
    "            end\n",
    "            \n",
    "            \n",
    "            \n",
    "        elseif s2.d==s2.sum==s2.n==0 && s2.as==-1 #si pierde\n",
    "            return 1 - ρ(s,a,BJ_s(0,0,0,1))\n",
    "        \n",
    "        #else: pasar a otro estado que no sea ganar ni perder = 0\n",
    "        end\n",
    "        \n",
    "    elseif a.a== :otra\n",
    "        \n",
    "        if s2.d==s2.sum==s2.n==0 && s2.as==1 #si gana automaticamente. (llegar a las 4 cuartas y sum<21)\n",
    "            if s.n==3\n",
    "                dif=21-s.sum\n",
    "                if dif<10 return (dif/13) #no me dejo dif<10 ? return dif/13:1\n",
    "                else return 1\n",
    "                end\n",
    "            #else: cundo no tendra 4 cartas e inclusive puede tener 21. Solo que necesita una jugada \n",
    "            #extra donde decida finalizar\n",
    "            end\n",
    "        elseif s2.d==s2.sum==s2.n==0 && s2.as==-1 #si pierde automaticamente.(cuando se pase de 21)\n",
    "            dif=22-s.sum\n",
    "            if dif<10  return (10-dif+4)/13\n",
    "            elseif dif==10 return 4/13\n",
    "            #else: cuando la diferencia sea mas de lo que puede sumar una carta\n",
    "            end\n",
    "        elseif s2.d ==s.d && s2.n==s.n+1 #si aumenta en 1 el num de cartas y el dealer es el mismo\n",
    "                if s2.sum-s.sum<10 && s2.sum-s.sum>1 #si anda entre 2 y 9 lo que aumenta la suma\n",
    "                    return 0.0769 #1/13\n",
    "                elseif s2.sum-s.sum==1 # si aumento en 1 la suma, solo puede ser un As\n",
    "                    if s2.as==1 return 0.0769 end                    \n",
    "                elseif s2.sum-s.sum==10 #si aumenta en 10 hay 4 posibilidades\n",
    "                    return 0.3077\n",
    "                end \n",
    "        end\n",
    "    \n",
    "    end\n",
    "    \n",
    "    0 #todos los else\n",
    "        \n",
    "end"
   ]
  },
  {
   "cell_type": "code",
   "execution_count": 41,
   "metadata": {},
   "outputs": [
    {
     "name": "stdout",
     "output_type": "stream",
     "text": [
      "Es terminal el estado BJ_s(8, 15, 2, 0) ? : false\n",
      "Acciones legales de BJ_s(8, 15, 2, 0) : Any[BJ_a(:otra), BJ_a(:fin)]\n",
      "Acciones legales de BJ_s(4, 11, 3, 1) : Any[BJ_a(:otra), BJ_a(:fin)]\n",
      "Acciones legales de BJ_s(0, 0, 0, 1) : nothing\n",
      "Recompenza de BJ_s(8, 15, 2, 0) : 0\n",
      "Probabilidad de pasar de BJ_s(4, 11, 3, 1) a BJ_s(0, 0, 0, 1) tomando la accion BJ_a(:otra): 1\n"
     ]
    }
   ],
   "source": [
    "s1=BJ_s(8,15,2,0)\n",
    "s2=BJ_s(4, 11, 3, 1)\n",
    "s3=BJ_s(0,0,0,1)\n",
    "\n",
    "println(\"Es terminal el estado $s1 ? : \",terminal(s1))\n",
    "println(\"Acciones legales de $s1 : \", aLegales(s1))\n",
    "println(\"Acciones legales de $s2 : \", aLegales(s2))\n",
    "println(\"Acciones legales de $s3 : \", repr(aLegales(s3)))\n",
    "\n",
    "a=BJ_a(:otra)\n",
    "\n",
    "println(\"Recompenza de $s1 : \", r(s1,a,s2))\n",
    "\n",
    "println(\"Probabilidad de pasar de $s2 a $s3 tomando la accion $a: \",ρ(s2,a,s3))\n",
    "\n"
   ]
  },
  {
   "cell_type": "markdown",
   "metadata": {},
   "source": [
    "La probabilidad de ganar estando en el estado s2 tomando otra carta es 1 debido a que no importa qué carta saque, tendrá menos o exactamente 21, lo que lo hará ganar."
   ]
  },
  {
   "cell_type": "markdown",
   "metadata": {},
   "source": [
    "## Generacion de estados"
   ]
  },
  {
   "cell_type": "markdown",
   "metadata": {},
   "source": [
    "Enseguida se generan todos los estados, tratando de evadir los que no tienen sentido."
   ]
  },
  {
   "cell_type": "code",
   "execution_count": null,
   "metadata": {
    "collapsed": true
   },
   "outputs": [],
   "source": [
    "est=[BJ_s(1,1,1,0)]\n",
    "pop!(est)\n",
    "\n",
    "for k in 2:4 #num\n",
    "    if k==1\n",
    "        x=10 \n",
    "    elseif k==2 \n",
    "        x=20\n",
    "    else\n",
    "        x=21\n",
    "    end\n",
    "    for i in 1:10 #dealer\n",
    "        for j in 1:x #sum\n",
    "            for l in 0:1 #as\n",
    "                if j>k\n",
    "                    if l==1 && j<=(k-1)*10\n",
    "                        push!(est,BJ_s(i,j,k,l))\n",
    "                    elseif l==0\n",
    "                        push!(est,BJ_s(i,j,k,l))\n",
    "                    end\n",
    "                end\n",
    "            end\n",
    "        end\n",
    "    end\n",
    "end\n",
    "\n",
    "push!(est,BJ_s(0,0,0,1))\n",
    "push!(est,BJ_s(0,0,0,-1))\n",
    "\n",
    "est"
   ]
  },
  {
   "cell_type": "markdown",
   "metadata": {},
   "source": [
    "## Generación de acciones"
   ]
  },
  {
   "cell_type": "code",
   "execution_count": 43,
   "metadata": {},
   "outputs": [
    {
     "data": {
      "text/plain": [
       "2-element Array{BJ_a,1}:\n",
       " BJ_a(:fin) \n",
       " BJ_a(:otra)"
      ]
     },
     "execution_count": 43,
     "metadata": {},
     "output_type": "execute_result"
    }
   ],
   "source": [
    "ac = [BJ_a(:fin), BJ_a(:otra)]\n",
    "ac"
   ]
  },
  {
   "cell_type": "markdown",
   "metadata": {},
   "source": [
    "## Modelo MDP"
   ]
  },
  {
   "cell_type": "code",
   "execution_count": 44,
   "metadata": {
    "collapsed": true
   },
   "outputs": [],
   "source": [
    "struct BJ <: MDP\n",
    "    estados\n",
    "    acciones\n",
    "    function BJ(estados::Array{BJ_s,1}, acciones::Array{BJ_a,1})\n",
    "        new(estados,acciones)\n",
    "    end\n",
    "end"
   ]
  },
  {
   "cell_type": "code",
   "execution_count": 45,
   "metadata": {},
   "outputs": [
    {
     "data": {
      "text/plain": [
       "BJ(BJ_s[BJ_s(1, 3, 2, 0), BJ_s(1, 3, 2, 1), BJ_s(1, 4, 2, 0), BJ_s(1, 4, 2, 1), BJ_s(1, 5, 2, 0), BJ_s(1, 5, 2, 1), BJ_s(1, 6, 2, 0), BJ_s(1, 6, 2, 1), BJ_s(1, 7, 2, 0), BJ_s(1, 7, 2, 1)  …  BJ_s(10, 18, 4, 0), BJ_s(10, 18, 4, 1), BJ_s(10, 19, 4, 0), BJ_s(10, 19, 4, 1), BJ_s(10, 20, 4, 0), BJ_s(10, 20, 4, 1), BJ_s(10, 21, 4, 0), BJ_s(10, 21, 4, 1), BJ_s(0, 0, 0, 1), BJ_s(0, 0, 0, -1)], BJ_a[BJ_a(:fin), BJ_a(:otra)])"
      ]
     },
     "execution_count": 45,
     "metadata": {},
     "output_type": "execute_result"
    }
   ],
   "source": [
    "BlackJ = BJ(est,ac)\n"
   ]
  },
  {
   "cell_type": "markdown",
   "metadata": {},
   "source": [
    "## Algoritmo de Programación Dinámica"
   ]
  },
  {
   "cell_type": "code",
   "execution_count": 50,
   "metadata": {},
   "outputs": [
    {
     "data": {
      "text/plain": [
       "policy_value (generic function with 1 method)"
      ]
     },
     "execution_count": 50,
     "metadata": {},
     "output_type": "execute_result"
    }
   ],
   "source": [
    "function policy_value(mdp::MDP,π_::Dict, γ::Real,ϵ::Float64)\n",
    "    \n",
    "    V = Dict(s => 0.0 for s in mdp.estados)\n",
    "    \n",
    "    flag=true\n",
    "    \n",
    "    Δ=ϵ+1\n",
    "    while Δ > ϵ\n",
    "        Δ=0\n",
    "        for s ∈ keys(V)\n",
    "            \n",
    "            v=V[s]\n",
    "            \n",
    "            if terminal(s) \n",
    "                V[s]=r(s)\n",
    "            else\n",
    "                V[s]=sum([ρ(s,π_[s],sp)*(r(s,π_[s],sp)+γ*V[sp]) for sp ∈ keys(V)] )\n",
    "            end\n",
    "            Δ=maximum([Δ,abs(v-V[s])])\n",
    "            \n",
    "        end\n",
    "    end\n",
    "    V\n",
    "end"
   ]
  },
  {
   "cell_type": "code",
   "execution_count": 51,
   "metadata": {},
   "outputs": [
    {
     "data": {
      "text/plain": [
       "policy_value_ (generic function with 1 method)"
      ]
     },
     "execution_count": 51,
     "metadata": {},
     "output_type": "execute_result"
    }
   ],
   "source": [
    "function policy_value_(mdp::MDP,π_::Dict, γ::Real)\n",
    "    \n",
    "    v = Dict(si => 0.0 for si in mdp.estados)\n",
    "    \n",
    "    flag=true\n",
    "    \n",
    "    while flag\n",
    "        \n",
    "        flag=false\n",
    "        \n",
    "        for s ∈ keys(π_)\n",
    "            if terminal(s) v[s]=r(s) \n",
    "            else\n",
    "                temp=sum([ρ(s,π_[s],sp)*(r(s,π_[s],sp)+γ*v[sp]) for sp in keys(v)])\n",
    "\n",
    "                if temp!=v[s]\n",
    "                    flag=true\n",
    "                    v[s]=temp\n",
    "                end\n",
    "                \n",
    "            end\n",
    "        end\n",
    "    end\n",
    "    \n",
    "    v\n",
    "end"
   ]
  },
  {
   "cell_type": "code",
   "execution_count": 52,
   "metadata": {},
   "outputs": [
    {
     "data": {
      "text/plain": [
       "policy_iteration (generic function with 1 method)"
      ]
     },
     "execution_count": 52,
     "metadata": {},
     "output_type": "execute_result"
    }
   ],
   "source": [
    "function policy_iteration(mdp::MDP,γ::Real, ϵ::Float64)\n",
    "    \n",
    "    \n",
    "    π_ = Dict(s => rand(aLegales(s)) for s in mdp.estados if !terminal(s))\n",
    "    \n",
    "    optima=false\n",
    "   \n",
    "    while !optima\n",
    "        v = policy_value(mdp,π_,γ,ϵ)\n",
    "                    \n",
    "        optima=true\n",
    "\n",
    "        for s ∈ keys(π_)\n",
    "            for a ∈ aLegales(s)\n",
    "                temp=sum( [ρ(s,a,s2)*(r(s,a,s2)+γ*v[s2]) for s2 in keys(v)])\n",
    "                if temp > v[s] \n",
    "                    optima=false      \n",
    "                    π_[s]=a\n",
    "                end\n",
    "            end\n",
    "        end\n",
    "    end\n",
    "    \n",
    "    π_\n",
    "end"
   ]
  },
  {
   "cell_type": "code",
   "execution_count": 53,
   "metadata": {
    "scrolled": false
   },
   "outputs": [
    {
     "data": {
      "text/plain": [
       "Dict{BJ_s,BJ_a} with 950 entries:\n",
       "  BJ_s(8, 16, 3, 1)  => BJ_a(:otra)\n",
       "  BJ_s(3, 8, 3, 0)   => BJ_a(:otra)\n",
       "  BJ_s(8, 8, 4, 0)   => BJ_a(:fin)\n",
       "  BJ_s(9, 10, 4, 0)  => BJ_a(:fin)\n",
       "  BJ_s(7, 8, 3, 0)   => BJ_a(:otra)\n",
       "  BJ_s(8, 15, 4, 0)  => BJ_a(:fin)\n",
       "  BJ_s(3, 15, 3, 1)  => BJ_a(:otra)\n",
       "  BJ_s(5, 18, 3, 0)  => BJ_a(:fin)\n",
       "  BJ_s(7, 9, 4, 1)   => BJ_a(:fin)\n",
       "  BJ_s(6, 10, 2, 0)  => BJ_a(:otra)\n",
       "  BJ_s(6, 16, 3, 0)  => BJ_a(:otra)\n",
       "  BJ_s(10, 8, 4, 0)  => BJ_a(:fin)\n",
       "  BJ_s(2, 13, 2, 0)  => BJ_a(:fin)\n",
       "  BJ_s(10, 13, 3, 1) => BJ_a(:otra)\n",
       "  BJ_s(8, 6, 2, 0)   => BJ_a(:otra)\n",
       "  BJ_s(10, 4, 3, 1)  => BJ_a(:otra)\n",
       "  BJ_s(2, 14, 4, 1)  => BJ_a(:fin)\n",
       "  BJ_s(4, 12, 3, 0)  => BJ_a(:otra)\n",
       "  BJ_s(2, 4, 2, 0)   => BJ_a(:otra)\n",
       "  BJ_s(9, 21, 3, 0)  => BJ_a(:fin)\n",
       "  BJ_s(1, 12, 4, 0)  => BJ_a(:fin)\n",
       "  BJ_s(1, 12, 3, 1)  => BJ_a(:otra)\n",
       "  BJ_s(3, 12, 2, 0)  => BJ_a(:otra)\n",
       "  BJ_s(9, 8, 4, 1)   => BJ_a(:fin)\n",
       "  BJ_s(8, 9, 4, 1)   => BJ_a(:fin)\n",
       "  ⋮                  => ⋮"
      ]
     },
     "execution_count": 53,
     "metadata": {},
     "output_type": "execute_result"
    }
   ],
   "source": [
    "π_opt= policy_iteration(BlackJ,1,0.0)\n"
   ]
  },
  {
   "cell_type": "code",
   "execution_count": 54,
   "metadata": {},
   "outputs": [
    {
     "name": "stdout",
     "output_type": "stream",
     "text": [
      "BJ_s(5, 7, 3, 0) => BJ_a(:otra)\n",
      "BJ_s(9, 16, 3, 1) => BJ_a(:otra)\n",
      "BJ_s(4, 17, 2, 0) => BJ_a(:fin)\n",
      "BJ_s(9, 17, 3, 0) => BJ_a(:fin)\n",
      "BJ_s(3, 9, 2, 1) => BJ_a(:otra)\n",
      "BJ_s(2, 16, 4, 1) => BJ_a(:fin)\n",
      "BJ_s(2, 5, 4, 0) => BJ_a(:fin)\n",
      "BJ_s(4, 8, 4, 1) => BJ_a(:fin)\n",
      "BJ_s(10, 13, 2, 0) => BJ_a(:fin)\n",
      "BJ_s(6, 6, 4, 0) => BJ_a(:fin)\n",
      "BJ_s(5, 8, 3, 1) => BJ_a(:otra)\n",
      "BJ_s(7, 19, 2, 0) => BJ_a(:fin)\n",
      "BJ_s(1, 3, 2, 1) => BJ_a(:otra)\n",
      "BJ_s(6, 12, 4, 1) => BJ_a(:fin)\n",
      "BJ_s(6, 13, 4, 1) => BJ_a(:fin)\n",
      "BJ_s(1, 11, 4, 1) => BJ_a(:fin)\n",
      "BJ_s(2, 10, 4, 1) => BJ_a(:fin)\n",
      "BJ_s(6, 10, 3, 0) => BJ_a(:otra)\n",
      "BJ_s(2, 6, 2, 1) => BJ_a(:otra)\n",
      "BJ_s(10, 11, 3, 0) => BJ_a(:otra)\n"
     ]
    }
   ],
   "source": [
    "muestra=rand(π_opt,20)\n",
    "\n",
    "for i ∈ 1:20\n",
    "    println(muestra[i])\n",
    "end"
   ]
  },
  {
   "cell_type": "code",
   "execution_count": 55,
   "metadata": {},
   "outputs": [
    {
     "data": {
      "text/plain": [
       "iter_value (generic function with 1 method)"
      ]
     },
     "execution_count": 55,
     "metadata": {},
     "output_type": "execute_result"
    }
   ],
   "source": [
    "function iter_value(mdp::MDP,γ::Real)\n",
    "    \n",
    "    V = Dict(s => 0.0 for s in mdp.estados)\n",
    "    Vp = Dict(s => 0.0 for s in mdp.estados)\n",
    "    \n",
    "    optima=false\n",
    "    \n",
    "    while !optima\n",
    "        \n",
    "        optima = true\n",
    "        i=0\n",
    "        for s in keys(V)\n",
    "            \n",
    "            if terminal(s)\n",
    "                V[s]=r(s)\n",
    "            else\n",
    "                Vp[s]=maximum([sum([ ρ(s,a,s2)==0 ? r(s) : ρ(s,a,s2)*(r(s,a,s2)+γ*V[s2]) for s2 in mdp.estados ]) \n",
    "                        for a in aLegales(s)])\n",
    "                \n",
    "                if Vp[s]>V[s] \n",
    "                    optima=false\n",
    "                    V[s]=Vp[s]\n",
    "                end\n",
    "                \n",
    "            end\n",
    "            \n",
    "        end\n",
    "        \n",
    "        \n",
    "    end\n",
    "    \n",
    "    s_legales=[s for s in mdp.estados if !terminal(s)]\n",
    "    sx=rand(s_legales)\n",
    "\n",
    "    π_ = Dict(sx => rand(aLegales(sx)))\n",
    "    \n",
    "    for s in s_legales \n",
    "        dict = Dict(a => sum([ρ(s,a,s2)*(r(s,a,s2)+γ*V[s2]) for s2 in mdp.estados]) for a in aLegales(s))\n",
    "        π_[s]=findmax(dict)[2]\n",
    "    end\n",
    "    \n",
    "    π_ \n",
    "    \n",
    "end"
   ]
  },
  {
   "cell_type": "code",
   "execution_count": 56,
   "metadata": {},
   "outputs": [
    {
     "data": {
      "text/plain": [
       "Dict{BJ_s,BJ_a} with 950 entries:\n",
       "  BJ_s(8, 16, 3, 1)  => BJ_a(:otra)\n",
       "  BJ_s(3, 8, 3, 0)   => BJ_a(:otra)\n",
       "  BJ_s(8, 8, 4, 0)   => BJ_a(:fin)\n",
       "  BJ_s(9, 10, 4, 0)  => BJ_a(:fin)\n",
       "  BJ_s(7, 8, 3, 0)   => BJ_a(:otra)\n",
       "  BJ_s(8, 15, 4, 0)  => BJ_a(:fin)\n",
       "  BJ_s(3, 15, 3, 1)  => BJ_a(:otra)\n",
       "  BJ_s(5, 18, 3, 0)  => BJ_a(:fin)\n",
       "  BJ_s(7, 9, 4, 1)   => BJ_a(:fin)\n",
       "  BJ_s(6, 10, 2, 0)  => BJ_a(:otra)\n",
       "  BJ_s(6, 16, 3, 0)  => BJ_a(:otra)\n",
       "  BJ_s(10, 8, 4, 0)  => BJ_a(:fin)\n",
       "  BJ_s(2, 13, 2, 0)  => BJ_a(:otra)\n",
       "  BJ_s(10, 13, 3, 1) => BJ_a(:otra)\n",
       "  BJ_s(8, 6, 2, 0)   => BJ_a(:otra)\n",
       "  BJ_s(10, 4, 3, 1)  => BJ_a(:otra)\n",
       "  BJ_s(2, 14, 4, 1)  => BJ_a(:fin)\n",
       "  BJ_s(4, 12, 3, 0)  => BJ_a(:otra)\n",
       "  BJ_s(2, 4, 2, 0)   => BJ_a(:otra)\n",
       "  BJ_s(9, 21, 3, 0)  => BJ_a(:fin)\n",
       "  BJ_s(1, 12, 4, 0)  => BJ_a(:fin)\n",
       "  BJ_s(1, 12, 3, 1)  => BJ_a(:otra)\n",
       "  BJ_s(3, 12, 2, 0)  => BJ_a(:otra)\n",
       "  BJ_s(9, 8, 4, 1)   => BJ_a(:fin)\n",
       "  BJ_s(8, 9, 4, 1)   => BJ_a(:fin)\n",
       "  ⋮                  => ⋮"
      ]
     },
     "execution_count": 56,
     "metadata": {},
     "output_type": "execute_result"
    }
   ],
   "source": [
    "π_opt= iter_value(BlackJ,1)\n"
   ]
  },
  {
   "cell_type": "code",
   "execution_count": 57,
   "metadata": {
    "scrolled": true
   },
   "outputs": [
    {
     "name": "stdout",
     "output_type": "stream",
     "text": [
      "BJ_s(7, 18, 2, 0) => BJ_a(:fin)\n",
      "BJ_s(7, 10, 2, 0) => BJ_a(:otra)\n",
      "BJ_s(5, 21, 4, 1) => BJ_a(:fin)\n",
      "BJ_s(8, 10, 4, 1) => BJ_a(:fin)\n",
      "BJ_s(6, 20, 4, 1) => BJ_a(:fin)\n",
      "BJ_s(4, 17, 4, 0) => BJ_a(:fin)\n",
      "BJ_s(2, 16, 4, 1) => BJ_a(:fin)\n",
      "BJ_s(4, 20, 3, 1) => BJ_a(:fin)\n",
      "BJ_s(2, 10, 2, 0) => BJ_a(:otra)\n",
      "BJ_s(2, 19, 4, 1) => BJ_a(:fin)\n",
      "BJ_s(1, 7, 2, 1) => BJ_a(:otra)\n",
      "BJ_s(2, 15, 4, 1) => BJ_a(:fin)\n",
      "BJ_s(9, 17, 3, 1) => BJ_a(:fin)\n",
      "BJ_s(10, 6, 3, 1) => BJ_a(:otra)\n",
      "BJ_s(6, 21, 3, 0) => BJ_a(:fin)\n",
      "BJ_s(4, 10, 4, 0) => BJ_a(:fin)\n",
      "BJ_s(10, 18, 3, 1) => BJ_a(:fin)\n",
      "BJ_s(5, 15, 3, 1) => BJ_a(:otra)\n",
      "BJ_s(7, 19, 4, 1) => BJ_a(:fin)\n",
      "BJ_s(4, 12, 3, 1) => BJ_a(:otra)\n"
     ]
    }
   ],
   "source": [
    "muestra=rand(π_opt,20)\n",
    "\n",
    "for i ∈ 1:20\n",
    "    println(muestra[i])\n",
    "end"
   ]
  },
  {
   "cell_type": "markdown",
   "metadata": {},
   "source": [
    "Algunos resultados de nuestra política óptima son:\n",
    "\n",
    "Si tiene 4 cartas elige 'fin' porque es la unica accion legal.\n",
    "\n",
    "Si tiene como suma 17,18 o 20 y puede pedir otra elige 'fin'.\n",
    "\n",
    "Cuando tiene menos que 17 y puede pedir otra carta al parecer la pide. Sin embargo en algunas ocasiones me encontré con situaciones donde decidía finalizar lo que me hace reconsiderar que la función de probabilidad aún falta ajustarse."
   ]
  },
  {
   "cell_type": "code",
   "execution_count": null,
   "metadata": {
    "collapsed": true
   },
   "outputs": [],
   "source": []
  }
 ],
 "metadata": {
  "kernelspec": {
   "display_name": "Julia 1.0.0",
   "language": "julia",
   "name": "julia-1.0"
  },
  "language_info": {
   "file_extension": ".jl",
   "mimetype": "application/julia",
   "name": "julia",
   "version": "1.0.0"
  }
 },
 "nbformat": 4,
 "nbformat_minor": 2
}
