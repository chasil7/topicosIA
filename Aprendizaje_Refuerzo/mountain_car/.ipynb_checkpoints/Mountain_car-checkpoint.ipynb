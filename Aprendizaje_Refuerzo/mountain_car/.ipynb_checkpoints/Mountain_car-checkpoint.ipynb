{
 "cells": [
  {
   "cell_type": "markdown",
   "metadata": {
    "collapsed": true
   },
   "source": [
    "# Mountain car"
   ]
  },
  {
   "cell_type": "code",
   "execution_count": null,
   "metadata": {
    "collapsed": true
   },
   "outputs": [],
   "source": [
    "abstract type MDP end\n",
    "#abstract type Estado end\n",
    "#abstract type Accion end\n",
    "\n",
    "struct mountain_car<::MDP\n",
    "    position_min\n",
    "    position_max\n",
    "    velocity_min\n",
    "    velocity_max\n",
    "\n",
    "    actions\n",
    "end"
   ]
  },
  {
   "cell_type": "code",
   "execution_count": null,
   "metadata": {
    "collapsed": true
   },
   "outputs": [],
   "source": [
    "struct IHT\n",
    "    size\n",
    "    overfull_count\n",
    "    dictionary\n",
    "    function IHT(size_val)\n",
    "        size=size_val\n",
    "        overfull_count=0\n",
    "        dictionary=Dict()\n",
    "    end\n",
    "end"
   ]
  },
  {
   "cell_type": "code",
   "execution_count": 5,
   "metadata": {},
   "outputs": [
    {
     "data": {
      "text/plain": [
       "get_index (generic function with 2 methods)"
      ]
     },
     "execution_count": 5,
     "metadata": {},
     "output_type": "execute_result"
    }
   ],
   "source": [
    "function count(self::IHT)\n",
    "        return lenght(self.dictionary)\n",
    "end\n",
    "\n",
    "function full(self::IHT)\n",
    "        return lenght(self.dictionary) >= self.size\n",
    "end\n",
    "\n",
    "function get_index(self::IHT, obj, read_only=False)\n",
    "        d = self.dictionary\n",
    "        if obj in d\n",
    "            return d[obj]\n",
    "        elseif read_only\n",
    "            return None\n",
    "        end\n",
    "    \n",
    "        size = self.size\n",
    "        count = count(count)\n",
    "    \n",
    "        if count >= size\n",
    "            if self.overfull_count == 0 println(\"IHT full, starting to allow collisions\") end\n",
    "            self.overfull_count += 1\n",
    "            return hash(obj) % self.size\n",
    "        else\n",
    "            d[obj] = count\n",
    "            return count\n",
    "        end\n",
    "end"
   ]
  },
  {
   "cell_type": "code",
   "execution_count": 12,
   "metadata": {},
   "outputs": [
    {
     "data": {
      "text/plain": [
       "tiles (generic function with 3 methods)"
      ]
     },
     "execution_count": 12,
     "metadata": {},
     "output_type": "execute_result"
    }
   ],
   "source": [
    "function hash_coords(coordinates, m, read_only=False)\n",
    "    if typeof(m)== IHT return m.get_index(tuple(coordinates), read_only) end\n",
    "    if typeof(m)== Int64 return hash(tuple(coordinates)) % m end\n",
    "    if m == nothing return coordinates end\n",
    "end\n",
    "\n",
    "function tiles(iht_or_size, num_tilings, floats, ints=nothing, read_only=False)\n",
    "    \"\"\"returns num-tilings tile indices corresponding to the floats and ints\"\"\"\n",
    "    if ints == nothing\n",
    "        ints = []\n",
    "    end\n",
    "    qfloats = [floor(f * num_tilings) for f in floats]\n",
    "    tiles = []\n",
    "    for tiling ∈ range(num_tilings)\n",
    "        tilingX2 = tiling * 2\n",
    "        coords = [tiling]\n",
    "        b = tiling\n",
    "        for q ∈ qfloats\n",
    "            #coords.append((q + b) // num_tilings)\n",
    "            push!(coords,(q + b) // num_tilings)\n",
    "            b += tilingX2\n",
    "        end\n",
    "        vcat(coords,ints)\n",
    "        push!(tiles,hash_coords(coords, iht_or_size, read_only))\n",
    "    end\n",
    "    return tiles\n",
    "end\n",
    "# Tile coding ends\n",
    "#######################################################################"
   ]
  },
  {
   "cell_type": "code",
   "execution_count": 13,
   "metadata": {},
   "outputs": [
    {
     "data": {
      "text/plain": [
       "step (generic function with 1 method)"
      ]
     },
     "execution_count": 13,
     "metadata": {},
     "output_type": "execute_result"
    }
   ],
   "source": [
    "# take an @action at @position and @velocity\n",
    "# @return: new position, new velocity, reward (always -1)\n",
    "function step(position, velocity, action,VEL_MAX,VEL_MIN,POS_MAX,POS_MIN)\n",
    "    new_velocity = velocity + 0.001 * action - 0.0025 * np.cos(3 * position)\n",
    "    new_velocity = min(max(VEL_MIN, new_velocity), VEL_MAX)\n",
    "    new_position = position + new_velocity\n",
    "    new_position = min(max(POS_MIN, new_position), POS_MAX)\n",
    "    reward = -1.0\n",
    "    if new_position == POS_MIN\n",
    "        new_velocity = 0.0\n",
    "    end\n",
    "    return new_position, new_velocity, reward\n",
    "end"
   ]
  },
  {
   "cell_type": "code",
   "execution_count": 15,
   "metadata": {},
   "outputs": [
    {
     "ename": "ErrorException",
     "evalue": "syntax: optional positional arguments must occur at end",
     "output_type": "error",
     "traceback": [
      "syntax: optional positional arguments must occur at end",
      ""
     ]
    }
   ],
   "source": [
    "# wrapper class for state action value function\n",
    "struct ValueFunction\n",
    "    # In this example I use the tiling software instead of implementing standard tiling by myself\n",
    "    # One important thing is that tiling is only a map from (state, action) to a series of indices\n",
    "    # It doesn't matter whether the indices have meaning, only if this map satisfy some property\n",
    "    # View the following webpage for more information\n",
    "    # http://incompleteideas.net/sutton/tiles/tiles3.html\n",
    "    # @max_size: the maximum # of indices\n",
    "\n",
    "    num_of_tilings\n",
    "    max_size\n",
    "    step_size\n",
    "    hash_table\n",
    "    weights\n",
    "    position_scale\n",
    "    velocity_scale\n",
    "\n",
    "    function ValueFunction(step_size, num_of_tilings=8, max_size=2048, prob)\n",
    "        max_size = max_size\n",
    "        num_of_tilings = num_of_tilings\n",
    "\n",
    "        # divide step size equally to each tiling\n",
    "        step_size = step_size / num_of_tilings\n",
    "\n",
    "        hash_table = IHT(max_size)\n",
    "\n",
    "        # weight for each tile\n",
    "        weights = np.zeros(max_size)\n",
    "\n",
    "        # position and velocity needs scaling to satisfy the tile software\n",
    "        position_scale = self.num_of_tilings / (prob.position_max - position_min)\n",
    "        velocity_scale = self.num_of_tilings / (velocity_max - velocity_min)\n",
    "    end\n",
    "end"
   ]
  },
  {
   "cell_type": "code",
   "execution_count": null,
   "metadata": {
    "collapsed": true
   },
   "outputs": [],
   "source": [
    "# get indices of active tiles for given state and action\n",
    "    def get_active_tiles(self, position, velocity, action):\n",
    "        # I think positionScale * (position - position_min) would be a good normalization.\n",
    "        # However positionScale * position_min is a constant, so it's ok to ignore it.\n",
    "        active_tiles = tiles(self.hash_table, self.num_of_tilings,\n",
    "                            [self.position_scale * position, self.velocity_scale * velocity],\n",
    "                            [action])\n",
    "        return active_tiles\n",
    "\n",
    "    # estimate the value of given state and action\n",
    "    def value(self, position, velocity, action):\n",
    "        if position == POSITION_MAX:\n",
    "            return 0.0\n",
    "        active_tiles = self.get_active_tiles(position, velocity, action)\n",
    "        return np.sum(self.weights[active_tiles])\n",
    "\n",
    "    # learn with given state, action and target\n",
    "    def learn(self, position, velocity, action, target):\n",
    "        active_tiles = self.get_active_tiles(position, velocity, action)\n",
    "        estimation = np.sum(self.weights[active_tiles])\n",
    "        delta = self.step_size * (target - estimation)\n",
    "        for active_tile in active_tiles:\n",
    "            self.weights[active_tile] += delta\n",
    "\n",
    "    # get # of steps to reach the goal under current state value function\n",
    "    def cost_to_go(self, position, velocity):\n",
    "        costs = []\n",
    "        for action in ACTIONS:\n",
    "            costs.append(self.value(position, velocity, action))\n",
    "        return -np.max(costs)"
   ]
  },
  {
   "cell_type": "code",
   "execution_count": null,
   "metadata": {
    "collapsed": true
   },
   "outputs": [],
   "source": [
    "\n",
    "# all possible actions\n",
    "ACTION_REVERSE = -1\n",
    "ACTION_ZERO = 0\n",
    "ACTION_FORWARD = 1\n",
    "# order is important\n",
    "ACTIONS = [ACTION_REVERSE, ACTION_ZERO, ACTION_FORWARD]\n",
    "\n",
    "# bound for position and velocity\n",
    "problema=mountain_car(-1.2,0.5,-0.07,0.07,ACTIONS)\n",
    "\n",
    "# use optimistic initial value, so it's ok to set epsilon to 0\n",
    "EPSILON = 0"
   ]
  },
  {
   "cell_type": "code",
   "execution_count": 5,
   "metadata": {},
   "outputs": [
    {
     "name": "stdout",
     "output_type": "stream",
     "text": [
      "si es\n"
     ]
    }
   ],
   "source": [
    "abstract type Ejemplo end\n",
    "\n",
    "struct ej <:Ejemplo\n",
    "    i::Int64\n",
    "end\n",
    "\n",
    "a=ej(5)\n",
    "\n",
    "if typeof(a)==ej println(\"si es\") \n",
    "else println(typeof(a)) end"
   ]
  },
  {
   "cell_type": "code",
   "execution_count": 23,
   "metadata": {},
   "outputs": [
    {
     "name": "stdout",
     "output_type": "stream",
     "text": [
      "[1, 2, 3, 4][5, 6, 7, 8][1, 2, 3, 4, 5, 6, 7, 8]\n",
      "[1, 2, 3, 4, 3]\n"
     ]
    },
    {
     "ename": "UndefVarError",
     "evalue": "UndefVarError: extend! not defined",
     "output_type": "error",
     "traceback": [
      "UndefVarError: extend! not defined",
      "",
      "Stacktrace:",
      " [1] top-level scope at In[23]:10"
     ]
    }
   ],
   "source": [
    "a=[1,2,3,4]\n",
    "b=[5,6,7,8]\n",
    "\n",
    "c=vcat(a,b)\n",
    "\n",
    "println(a,b,c)\n",
    "\n",
    "append!(a,3)\n",
    "println(a)\n"
   ]
  },
  {
   "cell_type": "code",
   "execution_count": null,
   "metadata": {
    "collapsed": true
   },
   "outputs": [],
   "source": []
  }
 ],
 "metadata": {
  "@webio": {
   "lastCommId": "D96FF1844B5C41FCA61787A51D697359",
   "lastKernelId": "f31dc354-15b4-42bd-a82b-4e95f19d760f"
  },
  "kernelspec": {
   "display_name": "Julia 1.0.0",
   "language": "julia",
   "name": "julia-1.0"
  },
  "language_info": {
   "file_extension": ".jl",
   "mimetype": "application/julia",
   "name": "julia",
   "version": "1.0.0"
  }
 },
 "nbformat": 4,
 "nbformat_minor": 2
}
