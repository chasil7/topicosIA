{
 "cells": [
  {
   "cell_type": "markdown",
   "metadata": {},
   "source": [
    "# Cliff Waking<br>\n",
    "<font size= +1>\n",
    "<p style=\"text-align: justify\">\n",
    "El problema _Cliff Walking_ consiste en que se tiene una cadrícula por la cual te puedes desplazar en cuatro direcciones, una celda a la vez. Las acciones que puedes tomar son __\"up\"__, __\"down\"__, __\"left\"__, __\"right\"__. \n",
    "El objetivo es llegar a una celda en especial que será la meta y como es de pensarse, lo más rapido posible, partiendo de una celda. Toda una sección de esta cuadrícula tiene una pérdida mucho más grande que las demás celdas, por lo que se evitará pasar por esa parte para llegar a la meta.\n",
    "</p>\n"
   ]
  },
  {
   "cell_type": "code",
   "execution_count": 95,
   "metadata": {},
   "outputs": [
    {
     "data": {
      "text/plain": [
       "q_learning (generic function with 1 method)"
      ]
     },
     "execution_count": 95,
     "metadata": {},
     "output_type": "execute_result"
    }
   ],
   "source": [
    "using Plots\n",
    "using NBInclude\n",
    "@nbinclude(\"algoritmos_reforzamiento.ipynb\")"
   ]
  },
  {
   "cell_type": "code",
   "execution_count": 2,
   "metadata": {
    "collapsed": true
   },
   "outputs": [],
   "source": [
    "struct CWs<: Estado\n",
    "    x ::Int64 # posición en el eje horizontal\n",
    "    y ::Int64 # posición en el eje vertical\n",
    "end"
   ]
  },
  {
   "cell_type": "code",
   "execution_count": 3,
   "metadata": {
    "collapsed": true
   },
   "outputs": [],
   "source": [
    "struct CWa <:Accion\n",
    "    a\n",
    "    function CWa(a)\n",
    "        if a!=:up && a!=:down && a!=:left && a!=:right\n",
    "            error(\"acción inválida\")\n",
    "        else new(a)\n",
    "        end\n",
    "    end\n",
    "end"
   ]
  },
  {
   "cell_type": "code",
   "execution_count": 4,
   "metadata": {},
   "outputs": [],
   "source": [
    "struct CW <:MDP\n",
    "    rows ::Int64\n",
    "    columns ::Int64\n",
    "    goal::CWs #Tuple{Int64,Int64}\n",
    "    start::CWs #Tuple{Int64,Int64}\n",
    "    redSection::NTuple{4,Int64}\n",
    "    actions::Array{CWa,1}\n",
    "    states::Array{CWs,1}\n",
    "end"
   ]
  },
  {
   "cell_type": "code",
   "execution_count": 67,
   "metadata": {},
   "outputs": [
    {
     "data": {
      "text/plain": [
       "step (generic function with 1 method)"
      ]
     },
     "execution_count": 67,
     "metadata": {},
     "output_type": "execute_result"
    }
   ],
   "source": [
    "function step(mdp::CW,s::CWs, a::CWa)\n",
    "    \"\"\"\n",
    "    if (a.a == :down && s.x == 2 && 1 <= s.y <= 10) || (\n",
    "        a.a == :right && s == mdp.start)\n",
    "        return mdp.start\n",
    "    end\n",
    "    \"\"\"\n",
    "    if (a.a == :down && mdp.redSection[3]<=s.y<=mdp.redSection[4] &&  mdp.redSection[1]<=s.x+1<=mdp.redSection[2])||\n",
    "        (a.a == :up && mdp.redSection[3]<=s.y<=mdp.redSection[4] &&  mdp.redSection[1]<=s.x-1<=mdp.redSection[2])||\n",
    "        (a.a == :right && mdp.redSection[3]<=s.y+1<=mdp.redSection[4] &&  mdp.redSection[1]<=s.x<=mdp.redSection[2])||\n",
    "        (a.a == :left && mdp.redSection[3]<=s.y-1<=mdp.redSection[4] &&  mdp.redSection[1]<=s.x<=mdp.redSection[2])\n",
    "        return mdp.start\n",
    "    end\n",
    "    \n",
    "    \n",
    "    if a.a == :up\n",
    "        return  CWs(max(s.x - 1, 0), s.y)\n",
    "    elseif a.a == :left\n",
    "        return  CWs(s.x, max(s.y - 1, 1))\n",
    "    elseif a.a == :right\n",
    "        return  CWs(s.x, min(s.y + 1, mdp.columns))\n",
    "    elseif a.a == :down\n",
    "        return CWs(min(s.x + 1, mdp.rows), s.y)\n",
    "    end\n",
    "end"
   ]
  },
  {
   "cell_type": "code",
   "execution_count": 68,
   "metadata": {},
   "outputs": [
    {
     "data": {
      "text/plain": [
       "aLegales (generic function with 1 method)"
      ]
     },
     "execution_count": 68,
     "metadata": {},
     "output_type": "execute_result"
    }
   ],
   "source": [
    "#terminal\n",
    "function terminal(modelo::CW,s::CWs)\n",
    "    s.x==modelo.goal.x && s.y==modelo.goal.y\n",
    "end\n",
    "\n",
    "function aLegales(mdp::CW,s::CWs)\n",
    "    \n",
    "    acciones=[]\n",
    "    #push!(acciones,r_accion(mdp))\n",
    "    #pop!(acciones)\n",
    "    if s.y > 1\n",
    "        push!(acciones,CWa(:left))\n",
    "    end\n",
    "    if s.y<mdp.columns\n",
    "        push!(acciones,CWa(:right))\n",
    "    end\n",
    "    if s.x >1\n",
    "        push!(acciones,CWa(:up))\n",
    "    end\n",
    "    if s.x<mdp.rows\n",
    "        push!(acciones,CWa(:down))\n",
    "    end\n",
    "\n",
    "    acciones\n",
    "end"
   ]
  },
  {
   "cell_type": "code",
   "execution_count": 69,
   "metadata": {},
   "outputs": [
    {
     "data": {
      "text/plain": [
       "r (generic function with 2 methods)"
      ]
     },
     "execution_count": 69,
     "metadata": {},
     "output_type": "execute_result"
    }
   ],
   "source": [
    "function r(mdp::CW,s::CWs,a::CWa,s2::CWs)\n",
    "\n",
    "    if terminal(mdp,s) return r(mdp,s) end\n",
    "    \n",
    "    \"\"\"\n",
    "    if (a.a == :down && s.x == 2 && 1 <= s.y <= 10) || (\n",
    "        a.a == :right && s == mdp.start)\n",
    "        return -100\n",
    "    end\n",
    "    \"\"\"\n",
    "    if (a.a == :down && mdp.redSection[3]<=s.y<=mdp.redSection[4] &&  mdp.redSection[1]<=s.x+1<=mdp.redSection[2])||\n",
    "        (a.a == :up && mdp.redSection[3]<=s.y<=mdp.redSection[4] &&  mdp.redSection[1]<=s.x-1<=mdp.redSection[2])||\n",
    "        (a.a == :right && mdp.redSection[3]<=s.y+1<=mdp.redSection[4] &&  mdp.redSection[1]<=s.x<=mdp.redSection[2])||\n",
    "        (a.a == :left && mdp.redSection[3]<=s.y-1<=mdp.redSection[4] &&  mdp.redSection[1]<=s.x<=mdp.redSection[2])\n",
    "        return -100\n",
    "    end\n",
    "    \n",
    "        \n",
    "    -1\n",
    "\n",
    "end\n",
    "    \n",
    "function r(mdp::CW,s::CWs)\n",
    "        1\n",
    "end"
   ]
  },
  {
   "cell_type": "code",
   "execution_count": 97,
   "metadata": {},
   "outputs": [
    {
     "data": {
      "text/plain": [
       "figure_6_4 (generic function with 2 methods)"
      ]
     },
     "execution_count": 97,
     "metadata": {},
     "output_type": "execute_result"
    }
   ],
   "source": [
    "function figure_6_4(mdp::CW, episode_limit,ϵ,α,γ)\n",
    "    \n",
    "    q_value=Dict((mdp.start,rand(mdp.actions))=>0.0 )\n",
    "    for s ∈ mdp.states\n",
    "        for a ∈ aLegales(mdp,s)\n",
    "        q_value[(s,a)]=0.0\n",
    "        end\n",
    "    end\n",
    "    #q_value = Dict( (s,a)=> 0 for s in mdp.states, a in aLegales(s))\n",
    "    \n",
    "    π_ ,steps = expected_sarsa(mdp, q_value, mdp.start, ϵ, α, γ, episode_limit, false)\n",
    "    \n",
    "    \n",
    "    optimal_policy = []\n",
    "    \n",
    "    for i in 1:mdp.rows\n",
    "        push!(optimal_policy,[])\n",
    "        for j in 1:mdp.columns\n",
    "            s=CWs(i,j)\n",
    "            if s==mdp.goal \n",
    "                push!(optimal_policy[i],'G')\n",
    "                continue \n",
    "            end\n",
    "            if mdp.redSection[3]<=j<=mdp.redSection[4] && mdp.redSection[1]<=i<=mdp.redSection[2]\n",
    "                push!(optimal_policy[i],'X')\n",
    "                continue\n",
    "            end\n",
    "            if π_[s].a==:up\n",
    "                push!(optimal_policy[i],'U')\n",
    "            elseif π_[s].a==:down\n",
    "                push!(optimal_policy[i],'D')\n",
    "            elseif π_[s].a==:right\n",
    "                push!(optimal_policy[i],'R')\n",
    "            elseif π_[s].a==:left\n",
    "                push!(optimal_policy[i],'L')\n",
    "            end\n",
    "        end\n",
    "    end\n",
    "    \n",
    "    \n",
    "    println(\"Optimal policy is:\")\n",
    "    for row in optimal_policy\n",
    "        println(row)\n",
    "    end\n",
    "    print(\"[\")\n",
    "    for i in 1:length(mdp.wind)\n",
    "        w=mdp.wind[i]\n",
    "        print(\"$w , \")\n",
    "    end\n",
    "    print(\"]\")\n",
    "\n",
    "    \n",
    "    \n",
    "    steps_ = accumulate(+, (steps))\n",
    "    y = [i for i in 1:length(steps)]\n",
    "    \n",
    "    font = Plots.font(\"Helvetica\", 18)\n",
    "    pyplot(guidefont=font, xtickfont=font, ytickfont=font, legendfont=font)\n",
    "    plot(steps_,y , label=\"line\")  \n",
    "    xlabel!(\"Time steps\")\n",
    "    ylabel!(\"Episodes\")\n",
    "    title!(\"steps vs episodios\")\n",
    "    \n",
    "\n",
    "end\n"
   ]
  },
  {
   "cell_type": "code",
   "execution_count": 71,
   "metadata": {},
   "outputs": [
    {
     "data": {
      "text/plain": [
       "500"
      ]
     },
     "execution_count": 71,
     "metadata": {},
     "output_type": "execute_result"
    }
   ],
   "source": [
    "# world height\n",
    "HEIGHT = 4\n",
    "# world width\n",
    "WIDTH = 12\n",
    "# probability for exploration\n",
    "EPSILON = 0.1\n",
    "# step size\n",
    "ALPHA = 0.5\n",
    "# gamma for Q-Learning and Expected Sarsa\n",
    "GAMMA = 1.0\n",
    "\n",
    "ACTIONS = [CWa(:up), CWa(:down), CWa(:left), CWa(:right)]\n",
    "\n",
    "# initial state action pair values\n",
    "START = CWs(4, 1)\n",
    "GOAL = CWs(4, 12)\n",
    "RED_SECTION=(4,4,2,11) #del renglon 4 al renglon 4 y de la columna 2 a la columna 9\n",
    "\n",
    "episodes= 500\n"
   ]
  },
  {
   "cell_type": "code",
   "execution_count": 72,
   "metadata": {},
   "outputs": [
    {
     "data": {
      "text/plain": [
       "CW(4, 12, CWs(4, 12), CWs(4, 1), (4, 4, 2, 11), CWa[CWa(:up), CWa(:down), CWa(:left), CWa(:right)], CWs[CWs(1, 1), CWs(1, 2), CWs(1, 3), CWs(1, 4), CWs(1, 5), CWs(1, 6), CWs(1, 7), CWs(1, 8), CWs(1, 9), CWs(1, 10)  …  CWs(3, 5), CWs(3, 6), CWs(3, 7), CWs(3, 8), CWs(3, 9), CWs(3, 10), CWs(3, 11), CWs(3, 12), CWs(4, 1), CWs(4, 12)])"
      ]
     },
     "execution_count": 72,
     "metadata": {},
     "output_type": "execute_result"
    }
   ],
   "source": [
    "STATES=[]\n",
    "for i in 1:HEIGHT,j in 1:WIDTH\n",
    "    if !( RED_SECTION[3]<=j<=RED_SECTION[4] &&  RED_SECTION[1]<=i<=RED_SECTION[2])\n",
    "        push!(STATES,CWs(i,j))\n",
    "    end\n",
    "end\n",
    "\n",
    "mdp=CW(HEIGHT,WIDTH,GOAL,START,RED_SECTION,ACTIONS,STATES)"
   ]
  },
  {
   "cell_type": "code",
   "execution_count": 96,
   "metadata": {},
   "outputs": [
    {
     "ename": "KeyError",
     "evalue": "KeyError: key CWs(4, 2) not found",
     "output_type": "error",
     "traceback": [
      "KeyError: key CWs(4, 2) not found",
      "",
      "Stacktrace:",
      " [1] getindex(::Dict{CWs,CWa}, ::CWs) at ./dict.jl:478",
      " [2] figure_6_4(::CW, ::Int64, ::Float64, ::Float64, ::Float64) at ./In[70]:25",
      " [3] top-level scope at In[96]:1"
     ]
    }
   ],
   "source": [
    "figure_6_4(mdp, episodes,EPSILON,ALPHA,GAMMA)"
   ]
  },
  {
   "cell_type": "code",
   "execution_count": null,
   "metadata": {
    "collapsed": true
   },
   "outputs": [],
   "source": []
  }
 ],
 "metadata": {
  "@webio": {
   "lastCommId": "C628836DB57F4C55838052D88FA081FB",
   "lastKernelId": "bde1e812-3b47-4576-9c60-38d29d9b713c"
  },
  "kernelspec": {
   "display_name": "Julia 1.0.0",
   "language": "julia",
   "name": "julia-1.0"
  },
  "language_info": {
   "file_extension": ".jl",
   "mimetype": "application/julia",
   "name": "julia",
   "version": "1.0.0"
  }
 },
 "nbformat": 4,
 "nbformat_minor": 2
}
