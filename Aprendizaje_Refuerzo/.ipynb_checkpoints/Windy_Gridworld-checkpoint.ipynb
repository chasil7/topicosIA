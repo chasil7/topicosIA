{
 "cells": [
  {
   "cell_type": "markdown",
   "metadata": {},
   "source": [
    "# Windy Gridworld <br>\n",
    "<font size= +1>\n",
    "<p style=\"text-align: justify\">\n",
    "El problema _Windy Gridworld_ consiste en que se tiene una cadrícula por la cual te puedes desplazar en cuatro direcciones, una celda a la vez. Las acciones que puedes tomar son __\"up\"__, __\"down\"__, __\"left\"__, __\"right\"__. \n",
    "El objetivo es llegar a una celda en especial que será la meta y como es de pensarse, lo más rapido posible, partiendo de una celda. Lo interesante de este problema es que en una zona de la cuadrícula hay viento y con una cantidad de fuerza (que depende de la columna) te impulsará a otra dirección cuando pases por ahí.\n",
    "</p>\n",
    "\n",
    "<p style=\"text-align: justify\">A continuación se presentará el ejemplo clásico del GridWorld y la solución a dos problemas que son una variante de éste.Primero definiremos la estructura principal del problema.</p>\n",
    "</font>"
   ]
  },
  {
   "cell_type": "code",
   "execution_count": 1,
   "metadata": {},
   "outputs": [
    {
     "data": {
      "text/plain": [
       "sarsa (generic function with 1 method)"
      ]
     },
     "execution_count": 1,
     "metadata": {},
     "output_type": "execute_result"
    }
   ],
   "source": [
    "using Plots\n",
    "using NBInclude\n",
    "@nbinclude(\"algoritmos_reforzamiento.ipynb\")\n",
    "#include(\"algoritmos_reforzamiento.jl\")"
   ]
  },
  {
   "cell_type": "markdown",
   "metadata": {},
   "source": [
    "<font size= +1 >\n",
    "Para el ejemplo y los ejercicios siguientes la estructura de un estado para este problema será el siguiente.\n",
    "</font>"
   ]
  },
  {
   "cell_type": "code",
   "execution_count": 2,
   "metadata": {
    "collapsed": true
   },
   "outputs": [],
   "source": [
    "struct GWstate <: Estado\n",
    "    x ::Int64 # posición en el eje horizontal\n",
    "    y ::Int64 # posición en el eje vertical\n",
    "end"
   ]
  },
  {
   "cell_type": "code",
   "execution_count": 3,
   "metadata": {
    "collapsed": true
   },
   "outputs": [],
   "source": [
    "struct GWaction <:Accion\n",
    "    a\n",
    "    function GWaction(a)\n",
    "        if a!=:up && a!=:down && a!=:left && a!=:right\n",
    "            error(\"acción inválida\")\n",
    "        else new(a)\n",
    "        end\n",
    "    end\n",
    "end"
   ]
  },
  {
   "cell_type": "markdown",
   "metadata": {},
   "source": [
    "<font size= +1 >\n",
    "Cada problema del Gridworld se le asociarán las dimensiones de la cuadrícula, la posición de la celda objetivo, la posicion de la celda de inicio y un arreglo con los pesos del viento.\n",
    "</font>"
   ]
  },
  {
   "cell_type": "code",
   "execution_count": 4,
   "metadata": {
    "collapsed": true
   },
   "outputs": [],
   "source": [
    "struct GW <:MDP\n",
    "    rows ::Int64\n",
    "    columns ::Int64\n",
    "    goal::GWstate #Tuple{Int64,Int64}\n",
    "    start::GWstate #Tuple{Int64,Int64}\n",
    "    wind::Array{Int64,1}\n",
    "    actions::Array{GWaction,1}\n",
    "    states::Array{GWstate,1}\n",
    "end"
   ]
  },
  {
   "cell_type": "markdown",
   "metadata": {},
   "source": [
    "<font size= +1 >Funciones básicas del MDP correspondiente al problema</font>"
   ]
  },
  {
   "cell_type": "code",
   "execution_count": 10,
   "metadata": {},
   "outputs": [
    {
     "data": {
      "text/plain": [
       "aLegales (generic function with 1 method)"
      ]
     },
     "execution_count": 10,
     "metadata": {},
     "output_type": "execute_result"
    }
   ],
   "source": [
    "#terminal\n",
    "function terminal(modelo::GW,s::GWstate)\n",
    "    s.x==modelo.goal.x && s.y==modelo.goal.y\n",
    "end\n",
    "\n",
    "#Reward\n",
    "function r( modelo::GW,s::GWstate,a ::Accion, s2::GWstate)\n",
    "    (terminal(modelo,s)) ? 1 : -1\n",
    "end\n",
    "\n",
    "function r( modelo::GW,s::GWstate)\n",
    "    (terminal(modelo,s)) ? 1 : -1\n",
    "end\n",
    "\n",
    "#Regresa una accion aleatoria\n",
    "function r_accion(mdp::GW)\n",
    "    rand(mdp.actions)\n",
    "end\n",
    "\n",
    "#acciones legales\n",
    "function aLegales(mdp::GW,s::GWstate)\n",
    "    \n",
    "    \n",
    "    acciones=[]\n",
    "    #push!(acciones,r_accion(mdp))\n",
    "    #pop!(acciones)\n",
    "    if s.y > 1\n",
    "        push!(acciones,GWaction(:left))\n",
    "    end\n",
    "    if s.y<mdp.columns\n",
    "        push!(acciones,GWaction(:right))\n",
    "    end\n",
    "    if s.x >1\n",
    "        push!(acciones,GWaction(:up))\n",
    "    end\n",
    "    if s.x<mdp.rows\n",
    "        push!(acciones,GWaction(:down))\n",
    "    end\n",
    "\n",
    "    acciones\n",
    "end\n"
   ]
  },
  {
   "cell_type": "code",
   "execution_count": 6,
   "metadata": {},
   "outputs": [
    {
     "data": {
      "text/plain": [
       "step (generic function with 1 method)"
      ]
     },
     "execution_count": 6,
     "metadata": {},
     "output_type": "execute_result"
    }
   ],
   "source": [
    "function step(gw::GW,s::GWstate, a ::GWaction)\n",
    "        \n",
    "    if a.a == :up \n",
    "        return GWstate(max(s.x - 1 - gw.wind[s.y], 1), s.y)\n",
    "    elseif a.a == :down\n",
    "        return GWstate(max(min(s.x + 1 - gw.wind[s.y], gw.rows), 1), s.y)\n",
    "    elseif a.a == :left\n",
    "        return GWstate(max(s.x - gw.wind[s.y], 1), max(s.y - 1, 1))\n",
    "    elseif a.a == :right\n",
    "        return GWstate(max(s.x - gw.wind[s.y], 1), min(s.y + 1, gw.columns))\n",
    "    end\n",
    "end"
   ]
  },
  {
   "cell_type": "code",
   "execution_count": 7,
   "metadata": {},
   "outputs": [
    {
     "data": {
      "text/plain": [
       "figure_6_3 (generic function with 1 method)"
      ]
     },
     "execution_count": 7,
     "metadata": {},
     "output_type": "execute_result"
    }
   ],
   "source": [
    "function figure_6_3(mdp::GW, episode_limit,ϵ,α)\n",
    "    \n",
    "    q_value=Dict((mdp.start,r_accion(mdp))=>0.0 )\n",
    "    for s ∈ mdp.states\n",
    "        for a ∈ aLegales(mdp,s)\n",
    "        q_value[(s,a)]=0.0\n",
    "        end\n",
    "    end\n",
    "    #q_value = Dict( (s,a)=> 0 for s in mdp.states, a in aLegales(s))\n",
    "    \n",
    "    π_ ,steps = sarsa(mdp, q_value, mdp.start, ϵ, α, episode_limit, false)\n",
    "    \n",
    "    \n",
    "    \n",
    "    optimal_policy = []\n",
    "    \n",
    "    for i in 1:mdp.rows\n",
    "        push!(optimal_policy,[])\n",
    "        for j in 1:mdp.columns\n",
    "            s=GWstate(i,j)\n",
    "            if s==mdp.goal \n",
    "                push!(optimal_policy[i],'G')\n",
    "                continue \n",
    "            end\n",
    "            if π_[s].a==:up\n",
    "                push!(optimal_policy[i],'U')\n",
    "            elseif π_[s].a==:down\n",
    "                push!(optimal_policy[i],'D')\n",
    "            elseif π_[s].a==:right\n",
    "                push!(optimal_policy[i],'R')\n",
    "            elseif π_[s].a==:left\n",
    "                push!(optimal_policy[i],'L')\n",
    "            end\n",
    "        end\n",
    "    end\n",
    "    \n",
    "    \n",
    "    println(\"Optimal policy is:\")\n",
    "    for row in optimal_policy\n",
    "        println(row)\n",
    "    end\n",
    "    print(\"[\")\n",
    "    for i in 1:length(mdp.wind)\n",
    "        w=mdp.wind[i]\n",
    "        print(\"$w , \")\n",
    "    end\n",
    "    print(\"]\")\n",
    "\n",
    "    \n",
    "    \n",
    "    steps_ = accumulate(+, (steps))\n",
    "    y = [i for i in 1:length(steps)]\n",
    "    \n",
    "    font = Plots.font(\"Helvetica\", 18)\n",
    "    pyplot(guidefont=font, xtickfont=font, ytickfont=font, legendfont=font)\n",
    "    plot(steps_,y , label=\"line\")  \n",
    "    xlabel!(\"Time steps\")\n",
    "    ylabel!(\"Episodes\")\n",
    "    title!(\"steps vs episodios\")\n",
    "    \n",
    "\n",
    "end\n"
   ]
  },
  {
   "cell_type": "code",
   "execution_count": 8,
   "metadata": {},
   "outputs": [
    {
     "data": {
      "text/plain": [
       "GW(7, 10, GWstate(4, 8), GWstate(4, 1), [0, 0, 0, 1, 1, 1, 2, 2, 1, 0], GWaction[GWaction(:up), GWaction(:down), GWaction(:right), GWaction(:left)], GWstate[GWstate(1, 1), GWstate(1, 2), GWstate(1, 3), GWstate(1, 4), GWstate(1, 5), GWstate(1, 6), GWstate(1, 7), GWstate(1, 8), GWstate(1, 9), GWstate(1, 10)  …  GWstate(7, 1), GWstate(7, 2), GWstate(7, 3), GWstate(7, 4), GWstate(7, 5), GWstate(7, 6), GWstate(7, 7), GWstate(7, 8), GWstate(7, 9), GWstate(7, 10)])"
      ]
     },
     "execution_count": 8,
     "metadata": {},
     "output_type": "execute_result"
    }
   ],
   "source": [
    "#estados\n",
    "col=10\n",
    "ren=7\n",
    "est=[]\n",
    "obj=GWstate(4,8)\n",
    "ini=GWstate(4,1)\n",
    "v=[0, 0, 0, 1, 1, 1, 2, 2, 1, 0]\n",
    "acc=[GWaction(:up),GWaction(:down),GWaction(:right),GWaction(:left)]\n",
    "for i in 1:ren,j in 1:col\n",
    "    push!(est,GWstate(i,j))\n",
    "end\n",
    "\n",
    "mdp=GW(ren,col,obj,ini,v,acc,est)\n",
    "\n"
   ]
  },
  {
   "cell_type": "code",
   "execution_count": 11,
   "metadata": {},
   "outputs": [
    {
     "name": "stdout",
     "output_type": "stream",
     "text": [
      "Optimal policy is:\n",
      "Any['D', 'R', 'R', 'R', 'R', 'R', 'R', 'R', 'R', 'D']\n",
      "Any['U', 'R', 'R', 'R', 'R', 'R', 'D', 'U', 'R', 'D']\n",
      "Any['U', 'D', 'U', 'R', 'D', 'R', 'R', 'U', 'R', 'D']\n",
      "Any['R', 'R', 'D', 'R', 'R', 'R', 'D', 'G', 'R', 'D']\n",
      "Any['R', 'R', 'D', 'R', 'R', 'R', 'R', 'D', 'L', 'D']\n",
      "Any['R', 'R', 'R', 'D', 'R', 'R', 'R', 'D', 'L', 'D']\n",
      "Any['R', 'R', 'R', 'R', 'R', 'R', 'R', 'R', 'L', 'L']\n",
      "[0 , 0 , 0 , 1 , 1 , 1 , 2 , 2 , 1 , 0 , ]"
     ]
    },
    {
     "data": {
      "image/png": "[encoded data removed]"
     },
     "execution_count": 11,
     "metadata": {},
     "output_type": "execute_result"
    }
   ],
   "source": [
    "episode_limit = 500\n",
    "ϵ= 0.1\n",
    "α=0.5\n",
    "\n",
    "figure_6_3(mdp, episode_limit,ϵ,α)\n"
   ]
  },
  {
   "cell_type": "markdown",
   "metadata": {},
   "source": [
    "## Ejercicio 6.9"
   ]
  },
  {
   "cell_type": "code",
   "execution_count": null,
   "metadata": {
    "collapsed": true
   },
   "outputs": [],
   "source": []
  },
  {
   "cell_type": "markdown",
   "metadata": {},
   "source": [
    "## Ejercicio 6.10 "
   ]
  },
  {
   "cell_type": "code",
   "execution_count": null,
   "metadata": {
    "collapsed": true
   },
   "outputs": [],
   "source": []
  },
  {
   "cell_type": "code",
   "execution_count": null,
   "metadata": {
    "collapsed": true
   },
   "outputs": [],
   "source": []
  }
 ],
 "metadata": {
  "@webio": {
   "lastCommId": "B068877BF7B0424C9DB917BD92ED301F",
   "lastKernelId": "92d9b6be-6dc8-40e3-9f68-ac1a3ae733d6"
  },
  "kernelspec": {
   "display_name": "Julia 1.0.0",
   "language": "julia",
   "name": "julia-1.0"
  },
  "language_info": {
   "file_extension": ".jl",
   "mimetype": "application/julia",
   "name": "julia",
   "version": "1.0.0"
  }
 },
 "nbformat": 4,
 "nbformat_minor": 2
}
