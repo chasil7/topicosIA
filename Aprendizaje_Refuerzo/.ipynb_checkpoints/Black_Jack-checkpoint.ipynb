{
 "cells": [
  {
   "cell_type": "markdown",
   "metadata": {},
   "source": [
    "# Black Jack <br>\n",
    "<font size= +1>\n",
    "<p style=\"text-align: justify\">\n",
    "Se intentará resolver a continuación una versión simplificada del famoso juego BlackJack o 21. Para esto, se tienen las siguientes reglas:<br>\n",
    "\n",
    "1. Solamente es un jugador y el Dealer, y en cada juagada se apuesta una cantidad fija de dinero (se requiere una política por jugada y los juegos son independientes)<br>\n",
    "\n",
    "2. Se asume un mazo infinito (todas las cartas tienen la misma probabilidad de salir)<br>\n",
    "\n",
    "3. El jugador juega primero, y solo tiene dos jugadas posibles: parar o pedir otra carta.<br>\n",
    "\n",
    "4. El jugador puede pedir cartas hasta que: llegue a 21 puntos (gana automáticamente), se pase de 21 puntos (pierde automáticamente), tenga 4 cartas o más (gana automáticamente) o decida parar.<br>\n",
    "\n",
    "5. El Dealer empieza con una sola carta y una vez que el jugador decide parar, y no haya perdido o ganado automáticamente.<br>\n",
    "\n",
    "6. El Dealer tiene que pedir_carta siempre que tenga menos de 17 puntos.<br>\n",
    "\n",
    "7. El Dealer tiene que parar si tiene 17 puntos o más.<br>\n",
    "\n",
    "8. Si el Dealer tiene 4 cartas, o un número mayor que el jugador (y menos que 21) gana. De otra forma, gana el jugador.\n",
    "</p>\n",
    "\n",
    "\n",
    "</font>"
   ]
  },
  {
   "cell_type": "code",
   "execution_count": 98,
   "metadata": {},
   "outputs": [
    {
     "data": {
      "text/plain": [
       "sarsa (generic function with 1 method)"
      ]
     },
     "execution_count": 98,
     "metadata": {},
     "output_type": "execute_result"
    }
   ],
   "source": [
    "using Plots\n",
    "using NBInclude\n",
    "@nbinclude(\"algoritmos_reforzamiento.ipynb\")\n",
    "#include(\"algoritmos_reforzamiento.jl\")"
   ]
  },
  {
   "cell_type": "code",
   "execution_count": 87,
   "metadata": {
    "collapsed": true
   },
   "outputs": [],
   "source": [
    "struct BJ_s <:Estado\n",
    "    d #valor de primer carta del dealer\n",
    "    sum #suma del jugador hasta el momento\n",
    "    n #numero de cartas del jugador\n",
    "    as #indica si se puede sumar 10 a sum o no (1,0), es decir, si tiene un As.\n",
    "\n",
    "    function BJ_s(d::Int,sum::Int,n::Int,as::Int)\n",
    "        if (d > 10 || sum>22 || n>4 || as>1 )\n",
    "            error(\"estado invalido\")\n",
    "        else\n",
    "            return new(d,sum,n,as)\n",
    "        end\n",
    "    end\n",
    "end"
   ]
  },
  {
   "cell_type": "code",
   "execution_count": 88,
   "metadata": {
    "collapsed": true
   },
   "outputs": [],
   "source": [
    "struct BJ_a <:Accion # Se puede pedir otra carta o finalizar el juego.\n",
    "    a\n",
    "    function BJ_a(a)\n",
    "        if (a != :fin && a!= :otra)\n",
    "            error(\"accion invalida\")\n",
    "        else\n",
    "            new(a)\n",
    "        end\n",
    "    end\n",
    "end"
   ]
  },
  {
   "cell_type": "code",
   "execution_count": 89,
   "metadata": {
    "collapsed": true
   },
   "outputs": [],
   "source": [
    "struct BJ <: MDP\n",
    "    states\n",
    "    actions\n",
    "    function BJ(states::Array{BJ_s,1}, actions::Array{BJ_a,1})\n",
    "        new(states,actions)\n",
    "    end\n",
    "end"
   ]
  },
  {
   "cell_type": "code",
   "execution_count": 100,
   "metadata": {},
   "outputs": [
    {
     "data": {
      "text/plain": [
       "r (generic function with 3 methods)"
      ]
     },
     "execution_count": 100,
     "metadata": {},
     "output_type": "execute_result"
    }
   ],
   "source": [
    "#terminal\n",
    "function terminal(mdp::BJ,s::BJ_s)\n",
    "    (s.d==s.sum==s.n==0) && (s.as==1 || s.as==-1) ? true : false\n",
    "end\n",
    "\n",
    "\n",
    "#acciones legales\n",
    "function aLegales(mdp::BJ,s::BJ_s)\n",
    "    if terminal(mdp,s)\n",
    "        return nothing\n",
    "    end\n",
    "    \n",
    "    acciones = []\n",
    "    \n",
    "    if s.sum<21 && s.n<4\n",
    "        push!(acciones,BJ_a(:otra))\n",
    "    end\n",
    "    \n",
    "    push!(acciones,BJ_a(:fin))\n",
    "    \n",
    "    acciones\n",
    "end\n",
    "                        \n",
    "#recompensa\n",
    "function r(mdp::BJ,s::BJ_s,a::BJ_a,s2::BJ_s)\n",
    "    if terminal(mdp,s) return r(mdp,s) end\n",
    "    0\n",
    "end\n",
    "\n",
    "function r(mdp::BJ,s::BJ_s)\n",
    "    if s.d==s.sum==s.n==0 && s.as==1\n",
    "        return 1\n",
    "    elseif s.d==s.sum==s.n==0 && s.as==-1\n",
    "        return -1\n",
    "    end\n",
    "    0\n",
    "end\n"
   ]
  },
  {
   "cell_type": "code",
   "execution_count": 122,
   "metadata": {},
   "outputs": [
    {
     "data": {
      "text/plain": [
       "1062-element Array{BJ_s,1}:\n",
       " BJ_s(1, 3, 2, 0)  \n",
       " BJ_s(1, 3, 2, 1)  \n",
       " BJ_s(1, 4, 2, 0)  \n",
       " BJ_s(1, 4, 2, 1)  \n",
       " BJ_s(1, 5, 2, 0)  \n",
       " BJ_s(1, 5, 2, 1)  \n",
       " BJ_s(1, 6, 2, 0)  \n",
       " BJ_s(1, 6, 2, 1)  \n",
       " BJ_s(1, 7, 2, 0)  \n",
       " BJ_s(1, 7, 2, 1)  \n",
       " BJ_s(1, 8, 2, 0)  \n",
       " BJ_s(1, 8, 2, 1)  \n",
       " BJ_s(1, 9, 2, 0)  \n",
       " ⋮                 \n",
       " BJ_s(10, 17, 4, 0)\n",
       " BJ_s(10, 17, 4, 1)\n",
       " BJ_s(10, 18, 4, 0)\n",
       " BJ_s(10, 18, 4, 1)\n",
       " BJ_s(10, 19, 4, 0)\n",
       " BJ_s(10, 19, 4, 1)\n",
       " BJ_s(10, 20, 4, 0)\n",
       " BJ_s(10, 20, 4, 1)\n",
       " BJ_s(10, 21, 4, 0)\n",
       " BJ_s(10, 21, 4, 1)\n",
       " BJ_s(0, 0, 0, 1)  \n",
       " BJ_s(0, 0, 0, -1) "
      ]
     },
     "execution_count": 122,
     "metadata": {},
     "output_type": "execute_result"
    }
   ],
   "source": [
    "est=[BJ_s(1,1,1,0)]\n",
    "pop!(est)\n",
    "\n",
    "for k in 2:4 #num\n",
    "    if k==1\n",
    "        x=10 \n",
    "    elseif k==2 \n",
    "        x=20\n",
    "    else\n",
    "        x=21\n",
    "    end\n",
    "    for i in 1:10 #dealer\n",
    "        for j in 1:x #sum\n",
    "            for l in 0:1 #as\n",
    "                if j>k\n",
    "                    #if l==1 && j<=(k-1)*10\n",
    "                        push!(est,BJ_s(i,j,k,l))\n",
    "                    #elseif l==0\n",
    "                    #    push!(est,BJ_s(i,j,k,l))\n",
    "                    #end\n",
    "                end\n",
    "            end\n",
    "        end\n",
    "    end\n",
    "end\n",
    "\n",
    "push!(est,BJ_s(0,0,0,1))\n",
    "push!(est,BJ_s(0,0,0,-1))"
   ]
  },
  {
   "cell_type": "code",
   "execution_count": 123,
   "metadata": {},
   "outputs": [
    {
     "data": {
      "text/plain": [
       "2-element Array{BJ_a,1}:\n",
       " BJ_a(:fin) \n",
       " BJ_a(:otra)"
      ]
     },
     "execution_count": 123,
     "metadata": {},
     "output_type": "execute_result"
    }
   ],
   "source": [
    "ac = [BJ_a(:fin), BJ_a(:otra)]\n",
    "ac"
   ]
  },
  {
   "cell_type": "code",
   "execution_count": 124,
   "metadata": {},
   "outputs": [
    {
     "data": {
      "text/plain": [
       "BJ(BJ_s[BJ_s(1, 3, 2, 0), BJ_s(1, 3, 2, 1), BJ_s(1, 4, 2, 0), BJ_s(1, 4, 2, 1), BJ_s(1, 5, 2, 0), BJ_s(1, 5, 2, 1), BJ_s(1, 6, 2, 0), BJ_s(1, 6, 2, 1), BJ_s(1, 7, 2, 0), BJ_s(1, 7, 2, 1)  …  BJ_s(10, 18, 4, 0), BJ_s(10, 18, 4, 1), BJ_s(10, 19, 4, 0), BJ_s(10, 19, 4, 1), BJ_s(10, 20, 4, 0), BJ_s(10, 20, 4, 1), BJ_s(10, 21, 4, 0), BJ_s(10, 21, 4, 1), BJ_s(0, 0, 0, 1), BJ_s(0, 0, 0, -1)], BJ_a[BJ_a(:fin), BJ_a(:otra)])"
      ]
     },
     "execution_count": 124,
     "metadata": {},
     "output_type": "execute_result"
    }
   ],
   "source": [
    "BlackJ = BJ(est,ac)"
   ]
  },
  {
   "cell_type": "code",
   "execution_count": 125,
   "metadata": {},
   "outputs": [
    {
     "data": {
      "text/plain": [
       "dealer (generic function with 1 method)"
      ]
     },
     "execution_count": 125,
     "metadata": {},
     "output_type": "execute_result"
    }
   ],
   "source": [
    "function dealer(d::Int64)\n",
    "    \n",
    "    n=1\n",
    "    total=d\n",
    "    while n<4\n",
    "        x=rand([1,2,3,4,5,6,7,8,9,10,10,10,10])\n",
    "        total+=x\n",
    "        \n",
    "        if x==1 && 16>total+10<=21 total+=10 end\n",
    "        \n",
    "        if total + x >=17 break end\n",
    "        n+=1\n",
    "    end\n",
    "    \n",
    "    total,n\n",
    "end"
   ]
  },
  {
   "cell_type": "code",
   "execution_count": 145,
   "metadata": {},
   "outputs": [
    {
     "ename": "LoadError",
     "evalue": "syntax: \"if\" at none:7 expected \"end\", got \"else\"",
     "output_type": "error",
     "traceback": [
      "syntax: \"if\" at none:7 expected \"end\", got \"else\"",
      ""
     ]
    }
   ],
   "source": [
    "function step(mdp::BJ,s::BJ_s,a ::BJ_a)\n",
    "    \n",
    "    \n",
    "    if a.a==:fin\n",
    "        \n",
    "        (s.as==1 && s.sum+10<=21) ? sum=s.sum+10 : sum=s.sum\n",
    "        if sum==21 || (s.n==4 && sum<=21) return BJ_s(0,0,0,1)\n",
    "        else \n",
    "            d,dn = dealer(s.d)\n",
    "            if d>21 return BJ_s(0,0,0,1)\n",
    "            if dn==4 && d<=21 return BJ_s(0,0,0,-1) end\n",
    "            (sum >= d) ? BJ_s(0,0,0,1) : BJ_s(0,0,0,-1)\n",
    "        end\n",
    "    else #a.a==:otra\n",
    "        x=rand([1,2,3,4,5,6,7,8,9,10,10,10,10])\n",
    "        \n",
    "        if s.sum+x > 21 return BJ_s(0,0,0,-1) end\n",
    "        \n",
    "        if x==1 return BJ_s(s.d,s.sum+x,s.n+1,1) end\n",
    "        \n",
    "        return BJ_s(s.d,s.sum+x,s.n+1,s.as)\n",
    "    end\n",
    "        \n",
    "end"
   ]
  },
  {
   "cell_type": "code",
   "execution_count": 146,
   "metadata": {},
   "outputs": [
    {
     "data": {
      "text/plain": [
       "resultado (generic function with 1 method)"
      ]
     },
     "execution_count": 146,
     "metadata": {},
     "output_type": "execute_result"
    }
   ],
   "source": [
    "function resultado(mdp::BJ, episode_limit,ϵ,α)\n",
    "\n",
    "    s=BJ_s(7,10,2,0)\n",
    "\n",
    "    q_value=Dict((s,rand(aLegales(mdp,s))) =>0.0)\n",
    "\n",
    "    for s ∈ mdp.states\n",
    "        if terminal(mdp,s) continue end\n",
    "        for a ∈ aLegales(mdp,s)\n",
    "            q_value[(s,a)]=0.0\n",
    "        end\n",
    "    end\n",
    "    #q_value = Dict( (s,a)=> 0 for s in mdp.states, a in aLegales(s))\n",
    "    start=rand(mdp.states)\n",
    "\n",
    "\n",
    "    π_ ,steps = sarsa(mdp, q_value, start , ϵ, α, episode_limit,true)\n",
    "\n",
    "    steps_ = accumulate(+, (steps))\n",
    "    y = [i for i in 1:length(steps)]\n",
    "\n",
    "    font = Plots.font(\"Helvetica\", 18)\n",
    "    pyplot(guidefont=font, xtickfont=font, ytickfont=font, legendfont=font)\n",
    "    plot(steps_,y , label=\"line\")  \n",
    "    xlabel!(\"Time steps\")\n",
    "    ylabel!(\"Episodes\")\n",
    "    title!(\"steps vs episodios\")\n",
    "\n",
    "    println(rand(π_,30))\n",
    "end"
   ]
  },
  {
   "cell_type": "code",
   "execution_count": 151,
   "metadata": {},
   "outputs": [
    {
     "name": "stdout",
     "output_type": "stream",
     "text": [
      "Pair{BJ_s,BJ_a}[BJ_s(10, 6, 4, 1)=>BJ_a(:fin), BJ_s(7, 5, 2, 1)=>BJ_a(:fin), BJ_s(2, 9, 4, 1)=>BJ_a(:fin), BJ_s(8, 19, 4, 0)=>BJ_a(:fin), BJ_s(7, 8, 3, 1)=>BJ_a(:otra), BJ_s(9, 19, 2, 0)=>BJ_a(:fin), BJ_s(9, 16, 3, 1)=>BJ_a(:fin), BJ_s(10, 7, 3, 1)=>BJ_a(:fin), BJ_s(7, 14, 3, 1)=>BJ_a(:fin), BJ_s(7, 16, 2, 1)=>BJ_a(:fin), BJ_s(5, 8, 2, 1)=>BJ_a(:fin), BJ_s(3, 20, 2, 1)=>BJ_a(:fin), BJ_s(4, 15, 3, 1)=>BJ_a(:otra), BJ_s(9, 17, 3, 0)=>BJ_a(:fin), BJ_s(4, 11, 4, 0)=>BJ_a(:fin), BJ_s(5, 9, 4, 0)=>BJ_a(:fin), BJ_s(1, 16, 3, 0)=>BJ_a(:otra), BJ_s(7, 19, 4, 1)=>BJ_a(:fin), BJ_s(6, 12, 3, 1)=>BJ_a(:fin), BJ_s(3, 8, 3, 0)=>BJ_a(:otra), BJ_s(10, 20, 2, 1)=>BJ_a(:fin), BJ_s(6, 16, 2, 1)=>BJ_a(:fin), BJ_s(10, 4, 2, 0)=>BJ_a(:fin), BJ_s(8, 18, 3, 0)=>BJ_a(:fin), BJ_s(1, 16, 2, 1)=>BJ_a(:fin), BJ_s(7, 21, 3, 0)=>BJ_a(:fin), BJ_s(7, 17, 4, 0)=>BJ_a(:fin), BJ_s(8, 5, 3, 1)=>BJ_a(:otra), BJ_s(2, 10, 4, 1)=>BJ_a(:fin), BJ_s(9, 10, 2, 1)=>BJ_a(:fin)]\n"
     ]
    }
   ],
   "source": [
    "episode_limit = 1000000\n",
    "ϵ= 0.5\n",
    "α=0.5\n",
    "\n",
    "resultado(BlackJ, episode_limit,ϵ,α)"
   ]
  },
  {
   "cell_type": "code",
   "execution_count": 78,
   "metadata": {},
   "outputs": [
    {
     "name": "stdout",
     "output_type": "stream",
     "text": [
      "Tuple{String,Float64}[#undef, #undef, #undef, #undef, #undef, (\"c\", 1.3), #undef, #undef, #undef, #undef, #undef, #undef, (\"a\", 1.1), (\"b\", 1.2), #undef, #undef]\n"
     ]
    }
   ],
   "source": [
    "x=Dict((\"a\",1.1)=>1, (\"b\",1.2)=>2, (\"c\",1.3)=>3)\n",
    "\n",
    "typeof(x.keys)\n",
    "\n"
   ]
  },
  {
   "cell_type": "code",
   "execution_count": null,
   "metadata": {
    "collapsed": true
   },
   "outputs": [],
   "source": []
  }
 ],
 "metadata": {
  "@webio": {
   "lastCommId": "E7FF9A13C1FB43678BA76E47853302DA",
   "lastKernelId": "d02546a0-9091-406f-868b-f0eb15798144"
  },
  "kernelspec": {
   "display_name": "Julia 1.0.0",
   "language": "julia",
   "name": "julia-1.0"
  },
  "language_info": {
   "file_extension": ".jl",
   "mimetype": "application/julia",
   "name": "julia",
   "version": "1.0.0"
  }
 },
 "nbformat": 4,
 "nbformat_minor": 2
}
